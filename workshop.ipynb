{
  "nbformat": 4,
  "nbformat_minor": 0,
  "metadata": {
    "colab": {
      "name": "Daniel Liu.ipynb",
      "provenance": [],
      "collapsed_sections": [],
      "toc_visible": true,
      "include_colab_link": true
    },
    "kernelspec": {
      "name": "python3",
      "display_name": "Python 3"
    }
  },
  "cells": [
    {
      "cell_type": "markdown",
      "metadata": {
        "id": "view-in-github",
        "colab_type": "text"
      },
      "source": [
        "<a href=\"https://colab.research.google.com/github/nabdtran/Awesome-Profile-README-templates/blob/master/workshop.ipynb\" target=\"_parent\"><img src=\"https://colab.research.google.com/assets/colab-badge.svg\" alt=\"Open In Colab\"/></a>"
      ]
    },
    {
      "cell_type": "markdown",
      "metadata": {
        "id": "ND1Y1kjql1Xx",
        "colab_type": "text"
      },
      "source": [
        "# Workshop #1 worksheet\n",
        "\n",
        "Welcome to the coding workshops! In this Google Colab document, we'll be working through a number of exercises at your own pace. Please let your breakout room tutor know if you have any difficulties.\n",
        "\n",
        "---"
      ]
    },
    {
      "cell_type": "markdown",
      "metadata": {
        "id": "CxZSTbUnAjBE",
        "colab_type": "text"
      },
      "source": [
        " # The print function and strings\n",
        "\n",
        "The `print()` function basically \"prints\" a message into your output. For example, if you were to run\n",
        "\n",
        "    print(\"XYZ\")\n",
        "\n",
        "in Python, you will get the output \n",
        "\n",
        "    XYZ\n",
        "\n",
        "The message passed into the print function is called a *string*. A *string* is basically a sequence of characters and is identified by quote marks around the characters.\n",
        "\n",
        "    \"This is a string\"\n",
        "    'This is also a string'\n",
        "\n",
        "Note that both double- and single-apostrophes are acceptable; however, you need to be consistent in your use. For example, `\"xyz'` is not a valid string.\n",
        "\n",
        "**Exercise 0: In the code chunk below, run the pre-existing code: `print(\"Hello, world!\")`. You can run the code chunk by pressing the Play button on the left of the chunk.**"
      ]
    },
    {
      "cell_type": "code",
      "metadata": {
        "id": "YYi8oKEe8_lb",
        "colab_type": "code",
        "colab": {}
      },
      "source": [
        "# Exercise 0\n",
        "print(\"Hello, world!\")"
      ],
      "execution_count": null,
      "outputs": []
    },
    {
      "cell_type": "markdown",
      "metadata": {
        "id": "Dgmp2I8K3sdI",
        "colab_type": "text"
      },
      "source": [
        "You should see the output `Hello, world!`. \n",
        "\n",
        "**Exercise 1: In the code chunk below, write then run your own `print(\"Hello, world!\")`. The output should look identical to the above.**"
      ]
    },
    {
      "cell_type": "code",
      "metadata": {
        "id": "PhB4G0Jv3ryK",
        "colab_type": "code",
        "colab": {}
      },
      "source": [
        "# Exercise 1\n",
        "# Write your code below this line.\n"
      ],
      "execution_count": null,
      "outputs": []
    },
    {
      "cell_type": "markdown",
      "metadata": {
        "id": "9-M9VCd2nVJs",
        "colab_type": "text"
      },
      "source": [
        "Congratulations! You have just written your very first Python program!\n",
        "\n",
        "Note that the hash symbol `#` indicate *comments*; Python ignores comments and doesn't run anything written on a line after a hash symbol `#`.\n",
        "\n",
        "---"
      ]
    },
    {
      "cell_type": "markdown",
      "metadata": {
        "id": "tDr5fsnCqltF",
        "colab_type": "text"
      },
      "source": [
        "# Printing multiple times\n",
        "\n",
        "If you want to print multiple lines of text (strings), you can just write multiple print functions. For instance,\n",
        "\n",
        "    print(\"Hello, world!\")\n",
        "    print(\"I'm a medical student from the University of Melbourne\")\n",
        "\n",
        "gives the output:\n",
        "\n",
        "    Hello, world!\n",
        "    I'm a medical student from the University of Melbourne\n",
        "\n",
        "**Exercise 2: In the code chunk below, write multiple print statements that print onto multiple lines. Any text will do.**"
      ]
    },
    {
      "cell_type": "code",
      "metadata": {
        "id": "P3wuFW2orEHz",
        "colab_type": "code",
        "colab": {}
      },
      "source": [
        "# Exercise 2\n"
      ],
      "execution_count": null,
      "outputs": []
    },
    {
      "cell_type": "markdown",
      "metadata": {
        "id": "HrkkstGXnw_Y",
        "colab_type": "text"
      },
      "source": [
        "---\n",
        "# The newline character `\\n`\n",
        "\n",
        "The newline character `\\n` tells Python to start a new line when printing some text. For example, the following code\n",
        "\n",
        "    print(\"Hello, world!\\nI'm a medical student from the University of Melbourne\")\n",
        "\n",
        "would produce an output that looks like\n",
        "\n",
        "    Hello, world!\n",
        "    I'm a medical student from the University of Melbourne\n",
        "\n",
        "Note how this is identical to calling multiple print functions, but this time you only needed to call one print function.\n",
        "\n",
        "**Exercise 3: In the code chunk below, reproduce the same output from Exercise 2, this time using the newline chracter `\\n` and only one print function.**"
      ]
    },
    {
      "cell_type": "code",
      "metadata": {
        "id": "SwanHY88BaW5",
        "colab_type": "code",
        "colab": {}
      },
      "source": [
        "# Exercise 3\n"
      ],
      "execution_count": null,
      "outputs": []
    },
    {
      "cell_type": "markdown",
      "metadata": {
        "id": "Myx88oHDPiVw",
        "colab_type": "text"
      },
      "source": [
        "---\n",
        "\n",
        "# Help function\n",
        "\n",
        "The in-built `help()` function provides information for in-built Python functions.\n",
        "\n",
        "**Exercise 4: in the code chunk below, run `help(print)`**"
      ]
    },
    {
      "cell_type": "code",
      "metadata": {
        "id": "4ZwVgn_KChGJ",
        "colab_type": "code",
        "colab": {}
      },
      "source": [
        "# Exercise 4\n",
        "help(print)"
      ],
      "execution_count": null,
      "outputs": []
    },
    {
      "cell_type": "markdown",
      "metadata": {
        "id": "J4uA8wDACwq4",
        "colab_type": "text"
      },
      "source": [
        "---\n",
        "\n",
        "# Variables\n",
        "\n",
        "A *variable* is an object that stores information. We can name a variable using standard characters, and we use the equals sign `=` to *assign* information to a variable. For example the code,\n",
        "\n",
        "    TestVariable = \"Some text\"\n",
        "\n",
        "creates a variable called `TestVariable` and assigns the information (in this case, a string) `\"Some text\"` to the variable. Note that unlike in maths, we cannot swap the left-hand and right-hand sides of the equals sign. Rather, the information we want to store is always on the right-hand side, while the variable is on always on the left.\n",
        "\n",
        "Suppose now we run\n",
        "\n",
        "    print(TestVariable)\n",
        "\n",
        "we will see `Some text`\n",
        "\n",
        "**Exercise 5: Create a variable called `Name` and assign your name to `Name`. Then, print `Name`.**"
      ]
    },
    {
      "cell_type": "code",
      "metadata": {
        "id": "4rHwD8m68OVt",
        "colab_type": "code",
        "colab": {}
      },
      "source": [
        "# Exercise 5\n"
      ],
      "execution_count": null,
      "outputs": []
    },
    {
      "cell_type": "markdown",
      "metadata": {
        "id": "nt-ldUXgIiVN",
        "colab_type": "text"
      },
      "source": [
        "---\n",
        "#String concatenation\n",
        "*String concatenation* is a fancy term to describe combining strings together. To combine different strings we can use the `+` sign. For example,\n",
        "\n",
        "```\n",
        "str1 = \"break\"\n",
        "str2 = \"through\"\n",
        "print(str1 + str2)\n",
        "```\n",
        "\n",
        "would produce the following output:\n",
        "\n",
        "```\n",
        "breakthrough\n",
        "```\n",
        "\n",
        "To repeat the same string a specified number of times we can use the `*` sign. For example,\n",
        "\n",
        "```\n",
        "str = \"Aussie\"\n",
        "print(str * 3)\n",
        "```\n",
        "\n",
        "would produce the following output:\n",
        "\n",
        "```\n",
        "AussieAussieAussie\n",
        "```\n",
        "\n",
        "**Exercise 6: In the code chunk below, concatenate two strings of your choice using `+` and/or `*`.**\n"
      ]
    },
    {
      "cell_type": "code",
      "metadata": {
        "id": "ztqwj5-3Ig0L",
        "colab_type": "code",
        "colab": {}
      },
      "source": [
        "# Exercise 6\n"
      ],
      "execution_count": null,
      "outputs": []
    },
    {
      "cell_type": "markdown",
      "metadata": {
        "id": "99i-D1AWKFf9",
        "colab_type": "text"
      },
      "source": [
        "---\n",
        "# Printing multiple arguments and string formatting\n",
        "\n",
        "You can pass multiple inputs (*arguments*) into the print function by separating them with commas. For instance,\n",
        "```\n",
        "Name = \"Ryan\"\n",
        "Age = \"26\" # in years\n",
        "print(\"Hello!\\nMy name is\", Name, \".\\nI am\", Age, \"years old.\")\n",
        "```\n",
        "where strings and the `Name` and `Age` variables are passed into the print function to produce the following output:\n",
        "```\n",
        "Hello!\n",
        "My name is Ryan .\n",
        "I am 26 years old.\n",
        "```\n"
      ]
    },
    {
      "cell_type": "markdown",
      "metadata": {
        "id": "wuQ2rIURzoD6",
        "colab_type": "text"
      },
      "source": [
        "Alternatively, you can use a string formatting technique called *f-string formatting* to produce a similar result. Every *f-string* starts with an `f` character followed by the string you want to format. You can display the value of variables by enclosing them in curly `{}` braces within the string. For instance,\n",
        "```\n",
        "print(f\"Hello!\\nMy name is {Name}.\\nI am {Age} years old.\")\n",
        "```\n",
        "where the `Name` and `Age` variables are passed into the f-string instead of the print function directly to produce the following output:\n",
        "```\n",
        "Hello!\n",
        "My name is Ryan.\n",
        "I am 26 years old.\n",
        "```\n",
        "**Exercise 7: In the code chunk below, create at least 2 variables containing strings of your choice. Then, try to reproduce the same output by (a) passing them directly into the print function, and (b) using f-string formatting instead.**"
      ]
    },
    {
      "cell_type": "code",
      "metadata": {
        "id": "I_e3MSSuG1-B",
        "colab_type": "code",
        "colab": {}
      },
      "source": [
        "# Exercise 7\n"
      ],
      "execution_count": null,
      "outputs": []
    },
    {
      "cell_type": "markdown",
      "metadata": {
        "id": "w8B5PI4nN7eL",
        "colab_type": "text"
      },
      "source": [
        "---\n",
        "# Input function\n",
        "\n",
        "The `input()` function takes input from a user and converts it into a string. You can provide a *prompt* argument to display a message to the user when asking for their input. For instance,\n",
        "```\n",
        "PainScore = input(\"Rate your pain from 0 (no pain) to 10 (worst pain ever):\")\n",
        "```\n",
        "prompts the user to input a number and stores it as a string in the `PainScore` variable.\n",
        "\n",
        "**Exercise 8: In the code chunk below, run the pre-existing code, read the prompt and type an input.**\n",
        "\n",
        "\n",
        "\n"
      ]
    },
    {
      "cell_type": "code",
      "metadata": {
        "id": "kuxIWerfN9aT",
        "colab_type": "code",
        "colab": {}
      },
      "source": [
        "# Exercise 8\n",
        "LockdownRating = input(\"Rate how much you are enjoying lockdown from 0 (hate it) to 10 (love it): \")\n",
        "print(f\"You rated your lockdown experience as {LockdownRating} out of 10.\")"
      ],
      "execution_count": null,
      "outputs": []
    },
    {
      "cell_type": "markdown",
      "metadata": {
        "id": "bL-FvaZsHSlf",
        "colab_type": "text"
      },
      "source": [
        "**Exercise 9: In the code chunk below, write code that takes in an input (with a prompt of your choice) and assign that to a variable. Then, print the variable.**"
      ]
    },
    {
      "cell_type": "code",
      "metadata": {
        "id": "tnI9zNuTHxFT",
        "colab_type": "code",
        "colab": {}
      },
      "source": [
        "# Exercise 9\n"
      ],
      "execution_count": null,
      "outputs": []
    },
    {
      "cell_type": "markdown",
      "metadata": {
        "id": "X5pSDSrcmtcq",
        "colab_type": "text"
      },
      "source": [
        "**Exercise 10: In the code chunk below, write code that takes in two different inputs (with prompts of your choice). Then, print both inputs side-by-side.**"
      ]
    },
    {
      "cell_type": "code",
      "metadata": {
        "id": "hWY-wjZRm5Qn",
        "colab_type": "code",
        "colab": {}
      },
      "source": [
        "# Exercise 10\n"
      ],
      "execution_count": null,
      "outputs": []
    }
  ]
}